{
 "cells": [
  {
   "cell_type": "code",
   "execution_count": 21,
   "metadata": {
    "collapsed": true
   },
   "outputs": [],
   "source": [
    "import torch.nn as nn\n",
    "import torchvision.transforms as transforms\n",
    "from torchvision import models\n",
    "from torch.autograd import Variable\n",
    "from PIL import Image\n",
    "\n",
    "import robosims\n",
    "import json\n",
    "import numpy as np\n",
    "from sklearn.decomposition import TruncatedSVD\n",
    "from sklearn.manifold import TSNE\n",
    "import matplotlib.pyplot as plt"
   ]
  },
  {
   "cell_type": "code",
   "execution_count": 22,
   "metadata": {
    "collapsed": true
   },
   "outputs": [],
   "source": [
    "class RecogNet(object):\n",
    "    def __init__(self, model_name='VGG'):\n",
    "        # import pretrained model and remove the soft-max layer\n",
    "        if model_name == 'ResNet':\n",
    "            self.model = models.resnet50(pretrained=True)\n",
    "            new_classifier = nn.Sequential(*list(self.model.children())[:-1])\n",
    "            self.model = new_classifier\n",
    "        else:\n",
    "            self.model = models.vgg19(pretrained=True)\n",
    "            new_classifier = nn.Sequential(*list(self.model.classifier.children())[:-1])\n",
    "            self.model.classifier = new_classifier\n",
    "\n",
    "    def feat_extract(self, frame):\n",
    "        # normalize the input image\n",
    "        normalize = transforms.Normalize(\n",
    "           mean=[0.485, 0.456, 0.406],\n",
    "           std=[0.229, 0.224, 0.225]\n",
    "        )\n",
    "        preprocess = transforms.Compose([\n",
    "           transforms.Scale(224),\n",
    "           # transforms.CenterCrop(224),\n",
    "           transforms.ToTensor(),\n",
    "           normalize\n",
    "        ])\n",
    "        image = Image.fromarray(frame)\n",
    "        img_tensor = preprocess(image)\n",
    "        # extract features\n",
    "        img_tensor.unsqueeze_(0)\n",
    "        return self.model(Variable(img_tensor))"
   ]
  },
  {
   "cell_type": "code",
   "execution_count": 57,
   "metadata": {
    "scrolled": true
   },
   "outputs": [
    {
     "name": "stdout",
     "output_type": "stream",
     "text": [
      "{\n",
      "  \"ENV_TYPE\": \"living-room\",\n",
      "  \"ENV_NAME\": \"living-room-0\",\n",
      "  \"ENV_BUILD_DARWIN\": \"../thor-201705011400-OSXIntel64.app/Contents/MacOS/thor-201705011400-OSXIntel64\",\n",
      "  \"ENV_BUILD_LINUX\": \"unity/builds/living-room-Linux64\",\n",
      "  \"PROCESS_NAME\": \"Robot AI Platform\",\n",
      "  \"PREFIX\": \"ROBOSIMS_\",\n",
      "  \"X_DISPLAY\": \"0.0\",\n",
      "  \"SMOOTH_ANIMATION\": false,\n",
      "  \"TASK_TYPE\": \"navigation\",\n",
      "  \"TASK_TARGET\": \"balcony\",\n",
      "  \"TRAIN_WALK_VELOCITY\": 20.0,\n",
      "  \"TRAIN_TURN_VELOCITY\": 100.0,\n",
      "  \"TRAIN_ACTION_LENGTH\": 1,\n",
      "  \"TEST_WALK_VELOCITY\": 2.0,\n",
      "  \"TEST_TURN_VELOCITY\": 10.0,\n",
      "  \"TEST_ACTION_LENGTH\": 1,\n",
      "  \"AGENT_HEIGHT\": 1.8,\n",
      "  \"AGENT_RADIUS\": 0.2,\n",
      "  \"COMPUTE_DEPTH_MAP\": false,\n",
      "  \"HUMAN_CONTROL_MODE\": false,\n",
      "  \"TRAIN_PHASE\": false,\n",
      "  \"SERVER_SIDE_SCREENSHOT\": false,\n",
      "  \"PLAYER_SCREEN_WIDTH\": 300,\n",
      "  \"PLAYER_SCREEN_HEIGHT\": 300\n",
      "}\n"
     ]
    },
    {
     "name": "stderr",
     "output_type": "stream",
     "text": [
      "/anaconda/lib/python3.6/site-packages/sklearn/decomposition/truncated_svd.py:192: RuntimeWarning: divide by zero encountered in true_divide\n",
      "  self.explained_variance_ratio_ = exp_var / full_var\n"
     ]
    }
   ],
   "source": [
    "\"\"\"  Test feature extraction by 2D embedding \"\"\"\n",
    "architecture = 'ResNet'\n",
    "# num_samples = 36 # for rotation degree form 0, 10, ..., 350\n",
    "num_samples = 360 # for rotation degree form 0, 1, ..., 359\n",
    "degree = float(360 // num_samples)\n",
    "\n",
    "if architecture == 'ResNet':\n",
    "    num_features = 2048\n",
    "else:\n",
    "    num_features = 4096\n",
    "\n",
    "# initialize environment\n",
    "env = robosims.controller.ChallengeController(\n",
    "    unity_path='../thor-201705011400-OSXIntel64.app/Contents/MacOS/thor-201705011400-OSXIntel64',\n",
    "    x_display=\"0.0\", # this parameter is ignored on OSX, but you must set this to the appropriate display on Linux\n",
    "    mode='continuous'\n",
    ")\n",
    "env.start()\n",
    "with open(\"../thor-challenge-targets/targets-train.json\") as f:\n",
    "    t = json.loads(f.read())\n",
    "target = t[1900]\n",
    "env.initialize_target(target)\n",
    "event = env.step(action=dict(action='Look', horizon=0.0))\n",
    "\n",
    "# initialize network\n",
    "recog_net = RecogNet(architecture)\n",
    "image_feature = np.zeros((num_samples, num_features))\n",
    "    \n",
    "# extract features\n",
    "for i in range(num_samples):\n",
    "#     print(i)\n",
    "    event = env.step(action=dict(action='Rotate', rotation=degree))\n",
    "    frame = event.frame\n",
    "    image_feat = recog_net.feat_extract(frame)\n",
    "    image_feature[i, :] = image_feat.data.squeeze().unsqueeze_(0).numpy()\n",
    "\n",
    "# low dimensional embedding\n",
    "image_feature_SVD = TruncatedSVD(n_components=50, n_iter=7).fit_transform(image_feature)\n",
    "image_embedded = TSNE(n_components=2).fit_transform(image_feature_SVD)"
   ]
  },
  {
   "cell_type": "code",
   "execution_count": 63,
   "metadata": {},
   "outputs": [
    {
     "data": {
      "image/png": "[encoded data removed]",
      "text/plain": [
       "<matplotlib.figure.Figure at 0x1a1b68b7f0>"
      ]
     },
     "metadata": {},
     "output_type": "display_data"
    }
   ],
   "source": [
    "fig, ax = plt.subplots(figsize=(15, 10))\n",
    "# # index = np.arange(num_samples)\n",
    "index = np.arange(60, num_samples-5)\n",
    "# plt.scatter(image_embedded[:, 0], image_embedded[:, 1], c=index)\n",
    "plt.scatter(image_embedded[60:355, 0], image_embedded[60:355, 1], c=index)\n",
    "plt.colorbar()\n",
    "plt.show()"
   ]
  },
  {
   "cell_type": "code",
   "execution_count": null,
   "metadata": {
    "collapsed": true
   },
   "outputs": [],
   "source": [
    "'''======================================= divider ====================================='''"
   ]
  },
  {
   "cell_type": "code",
   "execution_count": 27,
   "metadata": {
    "collapsed": true
   },
   "outputs": [
    {
     "name": "stdout",
     "output_type": "stream",
     "text": [
      "{\n",
      "  \"ENV_TYPE\": \"living-room\",\n",
      "  \"ENV_NAME\": \"living-room-0\",\n",
      "  \"ENV_BUILD_DARWIN\": \"../thor-201705011400-OSXIntel64.app/Contents/MacOS/thor-201705011400-OSXIntel64\",\n",
      "  \"ENV_BUILD_LINUX\": \"unity/builds/living-room-Linux64\",\n",
      "  \"PROCESS_NAME\": \"Robot AI Platform\",\n",
      "  \"PREFIX\": \"ROBOSIMS_\",\n",
      "  \"X_DISPLAY\": \"0.0\",\n",
      "  \"SMOOTH_ANIMATION\": false,\n",
      "  \"TASK_TYPE\": \"navigation\",\n",
      "  \"TASK_TARGET\": \"balcony\",\n",
      "  \"TRAIN_WALK_VELOCITY\": 20.0,\n",
      "  \"TRAIN_TURN_VELOCITY\": 100.0,\n",
      "  \"TRAIN_ACTION_LENGTH\": 1,\n",
      "  \"TEST_WALK_VELOCITY\": 2.0,\n",
      "  \"TEST_TURN_VELOCITY\": 10.0,\n",
      "  \"TEST_ACTION_LENGTH\": 1,\n",
      "  \"AGENT_HEIGHT\": 1.8,\n",
      "  \"AGENT_RADIUS\": 0.2,\n",
      "  \"COMPUTE_DEPTH_MAP\": false,\n",
      "  \"HUMAN_CONTROL_MODE\": false,\n",
      "  \"TRAIN_PHASE\": false,\n",
      "  \"SERVER_SIDE_SCREENSHOT\": false,\n",
      "  \"PLAYER_SCREEN_WIDTH\": 300,\n",
      "  \"PLAYER_SCREEN_HEIGHT\": 300\n",
      "}\n",
      "images/FloorPlan1/spoon.png\n",
      "<class 'PIL.Image.Image'>\n"
     ]
    },
    {
     "ename": "AttributeError",
     "evalue": "'Image' object has no attribute 'shape'",
     "output_type": "error",
     "traceback": [
      "\u001b[0;31m---------------------------------------------------------------------------\u001b[0m",
      "\u001b[0;31mAttributeError\u001b[0m                            Traceback (most recent call last)",
      "\u001b[0;32m<ipython-input-27-1e0b7069e31a>\u001b[0m in \u001b[0;36m<module>\u001b[0;34m()\u001b[0m\n\u001b[1;32m     20\u001b[0m         \u001b[0mimage\u001b[0m \u001b[0;34m=\u001b[0m \u001b[0mImage\u001b[0m\u001b[0;34m.\u001b[0m\u001b[0mfromarray\u001b[0m\u001b[0;34m(\u001b[0m\u001b[0mframe\u001b[0m\u001b[0;34m)\u001b[0m\u001b[0;34m\u001b[0m\u001b[0m\n\u001b[1;32m     21\u001b[0m         \u001b[0mprint\u001b[0m\u001b[0;34m(\u001b[0m\u001b[0mtype\u001b[0m\u001b[0;34m(\u001b[0m\u001b[0mimage\u001b[0m\u001b[0;34m)\u001b[0m\u001b[0;34m)\u001b[0m\u001b[0;34m\u001b[0m\u001b[0m\n\u001b[0;32m---> 22\u001b[0;31m         \u001b[0mprint\u001b[0m\u001b[0;34m(\u001b[0m\u001b[0mimage\u001b[0m\u001b[0;34m.\u001b[0m\u001b[0mshape\u001b[0m\u001b[0;34m)\u001b[0m\u001b[0;34m\u001b[0m\u001b[0m\n\u001b[0m\u001b[1;32m     23\u001b[0m         \u001b[0;32mbreak\u001b[0m\u001b[0;34m\u001b[0m\u001b[0m\n\u001b[1;32m     24\u001b[0m \u001b[0;34m\u001b[0m\u001b[0m\n",
      "\u001b[0;31mAttributeError\u001b[0m: 'Image' object has no attribute 'shape'"
     ]
    }
   ],
   "source": [
    "''' training example '''\n",
    "env = robosims.controller.ChallengeController(\n",
    "    # Use unity_path=thor-201705011400-OSXIntel64.app/Contents/MacOS/thor-201705011400-OSXIntel64 for OSX\n",
    "    # unity_path='projects/thor-201705011400-Linux64',\n",
    "    unity_path='../thor-201705011400-OSXIntel64.app/Contents/MacOS/thor-201705011400-OSXIntel64',\n",
    "    x_display=\"0.0\",  # this parameter is ignored on OSX, but you must set this to the appropriate display on Linux\n",
    "    mode='continuous'\n",
    ")\n",
    "env.start()\n",
    "recog_net = RecogNet()\n",
    "max_steps = 500\n",
    "with open(\"../thor-challenge-targets/targets-train.json\") as f:\n",
    "    t = json.loads(f.read())\n",
    "    for target in t:\n",
    "        env.initialize_target(target)\n",
    "        # path to the target image (e.g. apple, lettuce, keychain, etc.)\n",
    "        print(target['targetImage'])\n",
    "        event = env.step(action=dict(action='Look', horizon=0.0))\n",
    "        #print(event.metadata['lastActionSuccess'])\n",
    "        frame = event.frame\n",
    "        image = Image.fromarray(frame)\n",
    "        print(type(image))\n",
    "        print(image.shape)\n",
    "        break\n",
    "\n",
    "        step_count = 0\n",
    "        while (not env.target_found()) and step_count < max_steps:\n",
    "            # Possible actions are: MoveLeft, MoveRight, MoveAhead, MoveBack, LookUp, LookDown, RotateRight, RotateLeft\n",
    "            # to plugin agent action here\n",
    "            event = env.step(action=dict(action='MoveLeft', moveMagnitude=0.25))\n",
    "\n",
    "            # image of the current frame from the agent - numpy array of shape (300,300,3) in RGB order\n",
    "            image = event.frame\n",
    "            image_feature = recog_net.feat_extract(image)\n",
    "            print(image_feature)\n",
    "            print(image_feature.data.numpy())\n",
    "            break        \n",
    "        break"
   ]
  },
  {
   "cell_type": "code",
   "execution_count": null,
   "metadata": {
    "collapsed": true
   },
   "outputs": [],
   "source": []
  }
 ],
 "metadata": {
  "kernelspec": {
   "display_name": "Python 3",
   "language": "python",
   "name": "python3"
  },
  "language_info": {
   "codemirror_mode": {
    "name": "ipython",
    "version": 3
   },
   "file_extension": ".py",
   "mimetype": "text/x-python",
   "name": "python",
   "nbconvert_exporter": "python",
   "pygments_lexer": "ipython3",
   "version": "3.6.1"
  }
 },
 "nbformat": 4,
 "nbformat_minor": 2
}
